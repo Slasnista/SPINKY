{
 "cells": [
  {
   "cell_type": "code",
   "execution_count": 57,
   "metadata": {},
   "outputs": [],
   "source": [
    "import pandas as pd\n",
    "import numpy as np\n",
    "import seaborn as sns\n",
    "import matplotlib.pyplot as plt\n",
    "import os\n",
    "from tqdm import tqdm\n",
    "\n",
    "import matplotlib.pyplot as plt\n",
    "import matplotlib as mpl\n",
    "import matplotlib.colors as colors\n",
    "from mpl_toolkits.axes_grid1 import make_axes_locatable\n",
    "from matplotlib.lines import Line2D\n",
    "\n",
    "from sklearn.preprocessing import LabelEncoder\n",
    "from sklearn.metrics import confusion_matrix\n",
    "from sklearn.decomposition.pca import PCA\n",
    "from sklearn.manifold import TSNE\n",
    "\n",
    "import mne\n",
    "from joblib import Parallel, delayed\n",
    "\n",
    "%config InlineBackend.figure_format = 'retina'\n",
    "\n",
    "\n",
    "c = {\n",
    "    'axes.titlesize': 24,\n",
    "    'axes.labelsize': 22,\n",
    "    # 'axes.suptitlesize': 20,\n",
    "    'legend.fontsize': 20,\n",
    "    'xtick.labelsize': 20,\n",
    "    'ytick.labelsize': 20,\n",
    "    'lines.linewidth': 3,\n",
    "    'lines.markersize': 10,\n",
    "    'axes.grid': False,\n",
    "    # 'axes.grid': \"off\",\n",
    "    'pdf.fonttype': 42,\n",
    "    'ps.fonttype': 42\n",
    "}\n",
    "\n",
    "sns.set_style(\"whitegrid\")\n",
    "sns.set_context(\"paper\", rc=c)\n",
    "\n",
    "# confusion matrices\n",
    "annot_kws={\"size\": 16}\n",
    "\n",
    "fmt = \".2f\"\n",
    "\n",
    "palette = sns.color_palette(\"Blues\", 9)"
   ]
  },
  {
   "cell_type": "markdown",
   "metadata": {},
   "source": [
    "## Expe 1 - spindle - HP analysis"
   ]
  },
  {
   "cell_type": "code",
   "execution_count": 58,
   "metadata": {},
   "outputs": [],
   "source": [
    "s0 = pd.read_csv(\"../scores/spinky_2017_gold_standard.csv\")\n",
    "s0 = s0[s0.gold_standard == \"E2\"]\n",
    "s0_a = s0.groupby(\"threshold\").mean().reset_index()\n",
    "s0_b = s0.groupby([\"threshold\", \"IoU\"]).mean().reset_index()"
   ]
  },
  {
   "cell_type": "code",
   "execution_count": null,
   "metadata": {},
   "outputs": [],
   "source": [
    "fig = plt.figure(figsize=(16, 8))\n",
    "\n",
    "ax = plt.subplot2grid((1, 2), (0, 0))\n",
    "\n",
    "ax.plot(s0_a.threshold.values, s0_a.by_sample_f1.values)\n",
    "\n",
    "ax.set_ylim([0, 1])\n",
    "ax.set_ylabel(\"F1 (by sample)\")\n",
    "ax.set_xlabel(\"threshold\")\n",
    "ax.set_xlim([0, 250])\n",
    "\n",
    "ax = plt.subplot2grid((1, 2), (0, 1))\n",
    "\n",
    "\n",
    "for IoU, c in zip(pd.unique(s0_b.IoU), palette):\n",
    "    ax.plot(s0_b[s0_b.IoU == IoU].threshold.values, s0_b[s0_b.IoU == IoU].f1.values, label=IoU, color=c)\n",
    "\n",
    "ax.set_ylim([0, 1])\n",
    "ax.set_ylabel(\"F1 (by event)\")\n",
    "ax.set_xlabel(\"threshold\")\n",
    "ax.set_xlim([0, 250])\n",
    "\n",
    "L = plt.legend(title=\"IoU\", ncol=3, loc=\"upper center\")\n",
    "plt.setp(L.get_title(), fontsize=20)\n",
    "\n",
    "fig.tight_layout()\n",
    "plt.show()"
   ]
  },
  {
   "cell_type": "markdown",
   "metadata": {},
   "source": [
    "## Expe 2 - K complex - HP analysis"
   ]
  },
  {
   "cell_type": "code",
   "execution_count": null,
   "metadata": {},
   "outputs": [],
   "source": [
    "s1 = pd.read_csv(\"../scores/spinky_2017_k_complex.csv\")\n",
    "s1_a = s1.groupby(\"threshold\").mean().reset_index()\n",
    "s1_b = s1.groupby([\"threshold\", \"IoU\"]).mean().reset_index()"
   ]
  },
  {
   "cell_type": "code",
   "execution_count": null,
   "metadata": {},
   "outputs": [],
   "source": [
    "fig = plt.figure(figsize=(16, 8))\n",
    "\n",
    "ax = plt.subplot2grid((1, 2), (0, 0))\n",
    "\n",
    "ax.plot(s1_a.threshold.values, s1_a.by_sample_f1.values)\n",
    "\n",
    "ax.set_ylim([0, 1])\n",
    "ax.set_ylabel(\"F1 (by sample)\")\n",
    "ax.set_xlabel(\"threshold\")\n",
    "ax.set_xlim([-100, 0])\n",
    "\n",
    "ax = plt.subplot2grid((1, 2), (0, 1))\n",
    "\n",
    "\n",
    "for IoU, c in zip(pd.unique(s1_b.IoU), palette):\n",
    "    ax.plot(s1_b[s1_b.IoU == IoU].threshold.values, s1_b[s1_b.IoU == IoU].f1.values, label=IoU, color=c)\n",
    "\n",
    "ax.set_ylim([0, 1])\n",
    "ax.set_ylabel(\"F1 (by event)\")\n",
    "ax.set_xlabel(\"threshold\")\n",
    "ax.set_xlim([-100, 0])\n",
    "\n",
    "L = plt.legend(title=\"IoU\", ncol=3, loc=\"upper center\")\n",
    "plt.setp(L.get_title(), fontsize=20)\n",
    "\n",
    "fig.tight_layout()\n",
    "plt.show()"
   ]
  },
  {
   "cell_type": "code",
   "execution_count": null,
   "metadata": {},
   "outputs": [],
   "source": []
  },
  {
   "cell_type": "code",
   "execution_count": null,
   "metadata": {},
   "outputs": [],
   "source": []
  }
 ],
 "metadata": {
  "kernelspec": {
   "display_name": "Python 3",
   "language": "python",
   "name": "python3"
  },
  "language_info": {
   "codemirror_mode": {
    "name": "ipython",
    "version": 3
   },
   "file_extension": ".py",
   "mimetype": "text/x-python",
   "name": "python",
   "nbconvert_exporter": "python",
   "pygments_lexer": "ipython3",
   "version": "3.5.2"
  }
 },
 "nbformat": 4,
 "nbformat_minor": 2
}
